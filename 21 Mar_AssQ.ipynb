{
 "cells": [
  {
   "cell_type": "markdown",
   "metadata": {},
   "source": [
    "**Q1. What is the difference between Ordinal Encoding and Label Encoding? Provide an example of when you might choose one over the other.**\n",
    "\n",
    "**Ans:**\n",
    "\n",
    "Ordinal encoding and label encoding are both techniques used for encoding categorical data, but they differ in the way they assign numerical values to the categories.\n",
    "\n",
    "Ordinal encoding assigns a numerical value to each category based on its order or rank in the data. For example, if we have a categorical feature 'size' with three categories: 'small', 'medium', and 'large', ordinal encoding might assign the values 1, 2, and 3 to these categories, respectively, based on their order.\n",
    "\n",
    "Label encoding, on the other hand, assigns a unique numerical value to each category, without considering their order or rank. For example, label encoding might assign the values 1, 2, and 3 to the categories 'small', 'medium', and 'large', respectively, without considering their order.\n",
    "\n",
    "One might choose ordinal encoding over label encoding when there is a natural order or hierarchy among the categories. For example, in a dataset with a feature 'education level', the categories might include 'high school', 'college', 'master's', and 'PhD'. In this case, it makes sense to use ordinal encoding to preserve the natural order of the categories.\n",
    "\n",
    "On the other hand, one might choose label encoding over ordinal encoding when there is no inherent order among the categories, or when the categories are nominal. For example, in a dataset with a feature 'color', the categories might include 'red', 'green', and 'blue'. In this case, it would not make sense to use ordinal encoding, as there is no natural order among the colors. Instead, label encoding would be a better choice, as it assigns a unique value to each category without considering their order."
   ]
  },
  {
   "cell_type": "markdown",
   "metadata": {},
   "source": [
    "**Q2. Explain how Target Guided Ordinal Encoding works and provide an example of when you might use it in a machine learning project.**\n",
    "\n",
    "**Ans:**\n",
    "\n",
    "Target guided ordinal encoding is a technique used to encode categorical variables that can be used for predictive modeling. It involves encoding each category of a categorical variable with a number that is calculated based on the relationship between the category and the target variable.\n",
    "\n",
    "The basic steps involved in target guided ordinal encoding are as follows:\n",
    "\n",
    "1. Group the data by the categorical variable and calculate the mean of the target variable for each category.\n",
    "\n",
    "2. Sort the categories by the mean target value in ascending or descending order.\n",
    "\n",
    "3. Assign an ordinal number to each category based on its position in the sorted list.\n",
    "\n",
    "4. Replace the category values in the original dataset with the corresponding ordinal numbers.\n",
    "\n",
    "\n",
    "For example, consider a dataset with a categorical variable 'City' that has four categories: 'New York', 'Chicago', 'Los Angeles', and 'Houston'. The target variable is 'Sales', which is a continuous variable representing the sales revenue for each observation.\n",
    "\n",
    "Using target guided ordinal encoding, we can encode each category with a number that reflects its relationship with the target variable 'Sales'. \n",
    "\n",
    "Suppose the mean sales revenue for each category is as follows:\n",
    "\n",
    "    New York: 1000\n",
    "\n",
    "    Chicago: 800\n",
    "\n",
    "    Los Angeles: 1200\n",
    "\n",
    "    Houston: 600\n",
    "\n",
    "\n",
    "We can then sort the categories by their mean sales revenue in descending order:\n",
    "\n",
    "    Los Angeles: 1200\n",
    "\n",
    "    New York: 1000\n",
    "\n",
    "    Chicago: 800\n",
    "\n",
    "    Houston: 600\n",
    "\n",
    "\n",
    "We can assign ordinal numbers to each category based on their position in the sorted list:\n",
    "\n",
    "    Los Angeles: 4\n",
    "\n",
    "    New York: 3\n",
    "\n",
    "    Chicago: 2\n",
    "\n",
    "    Houston: 1\n",
    "\n",
    "\n",
    "We can then replace the category values in the original dataset with the corresponding ordinal numbers.\n",
    "\n",
    "Target guided ordinal encoding can be useful in situations where the categorical variable has a strong relationship with the target variable and the goal is to capture this relationship in the encoding. It can be particularly effective when dealing with high cardinality categorical variables, where there are many categories and it is difficult to apply one-hot encoding or other techniques that create a large number of binary features."
   ]
  },
  {
   "cell_type": "markdown",
   "metadata": {},
   "source": [
    "**Q3. Define covariance and explain why it is important in statistical analysis. How is covariance calculated?**\n",
    "\n",
    "**Ans:**\n",
    "\n",
    "Covariance is a measure of the linear relationship between two variables. It measures how much two variables change together. Specifically, covariance measures the degree to which two variables are related, such that when one variable increases or decreases, the other variable tends to increase or decrease as well.\n",
    "\n",
    "Covariance is an important concept in statistical analysis because it helps us to understand the relationship between two variables. If the covariance between two variables is positive, it means that they tend to increase or decrease together. If the covariance is negative, it means that they tend to move in opposite directions. If the covariance is zero, it means that there is no linear relationship between the variables.\n",
    "\n",
    "Covariance is calculated as the average of the product of the deviations of each variable from its mean. The formula for covariance is:\n",
    "\n",
    "    cov(X,Y) = 1/n * Σ (xi - mean(X)) * (yi - mean(Y))\n",
    "\n",
    "    where \n",
    "    \n",
    "    X and Y are the two variables, \n",
    "    xi and yi are the individual data points for each variable, \n",
    "    mean(X) and mean(Y) are the means of the variables, \n",
    "    n is the number of data points.\n",
    "\n",
    "Covariance can take on any value, with larger positive values indicating a stronger positive relationship between the variables, larger negative values indicating a stronger negative relationship, and values close to zero indicating no relationship.\n",
    "\n",
    "Covariance is often used in conjunction with correlation, which is a standardized measure of the linear relationship between two variables that ranges from -1 to 1. Correlation is preferred over covariance because it is not affected by differences in the scale or units of measurement of the variables."
   ]
  },
  {
   "cell_type": "markdown",
   "metadata": {},
   "source": [
    "**Q4. For a dataset with the following categorical variables: Color (red, green, blue), Size (small, medium, large), and Material (wood, metal, plastic), perform label encoding using Python's scikit-learn library. Show your code and explain the output.**\n",
    "\n",
    "**Ans:**"
   ]
  },
  {
   "cell_type": "code",
   "execution_count": 1,
   "metadata": {},
   "outputs": [
    {
     "name": "stdout",
     "output_type": "stream",
     "text": [
      "   Color  Size  Material\n",
      "0      2     2         2\n",
      "1      1     1         0\n",
      "2      0     0         1\n",
      "3      1     2         1\n",
      "4      2     1         2\n"
     ]
    }
   ],
   "source": [
    "from sklearn.preprocessing import LabelEncoder\n",
    "import pandas as pd\n",
    "\n",
    "data = {'Color': ['red', 'green', 'blue', 'green', 'red'],\n",
    "        'Size': ['small', 'medium', 'large', 'small', 'medium'],\n",
    "        'Material': ['wood', 'metal', 'plastic', 'plastic', 'wood']}\n",
    "df = pd.DataFrame(data)\n",
    "\n",
    "le = LabelEncoder()\n",
    "\n",
    "df['Color'] = le.fit_transform(df['Color'])\n",
    "df['Size'] = le.fit_transform(df['Size'])\n",
    "df['Material'] = le.fit_transform(df['Material'])\n",
    "\n",
    "print(df)"
   ]
  },
  {
   "cell_type": "markdown",
   "metadata": {},
   "source": [
    "In this code, we first create a sample dataset with three categorical variables: Color, Size, and Material. We then use scikit-learn's LabelEncoder to perform label encoding for each variable.\n",
    "\n",
    "For each variable, we create a LabelEncoder object and fit it to the values of the variable using the fit_transform method. This method assigns a unique integer label to each category in the variable. We then replace the original values of the variable with the encoded labels.\n",
    "\n",
    "The output shows the resulting encoded dataset, where each categorical variable has been replaced with its corresponding integer labels. For example, 'red', 'green', and 'blue' in the 'Color' variable have been replaced with 2, 1, and 0 respectively. Similarly, 'small', 'medium', and 'large' in the 'Size' variable have been replaced with 2, 0, and 1 respectively, and 'wood', 'metal', and 'plastic' in the 'Material' variable have been replaced with 2, 1, and 0 respectively."
   ]
  },
  {
   "cell_type": "markdown",
   "metadata": {},
   "source": [
    "**Q5. Calculate the covariance matrix for the following variables in a dataset: Age, Income, and Education level. Interpret the results.**\n",
    "\n",
    "**Ans:**"
   ]
  },
  {
   "cell_type": "code",
   "execution_count": 3,
   "metadata": {},
   "outputs": [
    {
     "data": {
      "text/html": [
       "<div>\n",
       "<style scoped>\n",
       "    .dataframe tbody tr th:only-of-type {\n",
       "        vertical-align: middle;\n",
       "    }\n",
       "\n",
       "    .dataframe tbody tr th {\n",
       "        vertical-align: top;\n",
       "    }\n",
       "\n",
       "    .dataframe thead th {\n",
       "        text-align: right;\n",
       "    }\n",
       "</style>\n",
       "<table border=\"1\" class=\"dataframe\">\n",
       "  <thead>\n",
       "    <tr style=\"text-align: right;\">\n",
       "      <th></th>\n",
       "      <th>Age</th>\n",
       "      <th>Income</th>\n",
       "    </tr>\n",
       "  </thead>\n",
       "  <tbody>\n",
       "    <tr>\n",
       "      <th>Age</th>\n",
       "      <td>14.916667</td>\n",
       "      <td>7.683333e+04</td>\n",
       "    </tr>\n",
       "    <tr>\n",
       "      <th>Income</th>\n",
       "      <td>76833.333333</td>\n",
       "      <td>5.296667e+08</td>\n",
       "    </tr>\n",
       "  </tbody>\n",
       "</table>\n",
       "</div>"
      ],
      "text/plain": [
       "                 Age        Income\n",
       "Age        14.916667  7.683333e+04\n",
       "Income  76833.333333  5.296667e+08"
      ]
     },
     "execution_count": 3,
     "metadata": {},
     "output_type": "execute_result"
    }
   ],
   "source": [
    "df = pd.DataFrame({\n",
    "    'Age' : [21,23,25,30],\n",
    "    'Income' : [12000,50000,45000,67000],\n",
    "    'Education level': ['Bcom','Btech','Arts','Bscs']\n",
    "})\n",
    "\n",
    "df.cov()"
   ]
  },
  {
   "cell_type": "markdown",
   "metadata": {},
   "source": [
    "**Q6. You are working on a machine learning project with a dataset containing several categorical variables, including \"Gender\" (Male/Female), \"Education Level\" (High School/Bachelor's/Master's/PhD), and \"Employment Status\" (Unemployed/Part-Time/Full-Time). Which encoding method would you use for each variable, and why?**\n",
    "\n",
    "**Ans:**"
   ]
  },
  {
   "cell_type": "markdown",
   "metadata": {},
   "source": [
    "**<u>Gender</u>**"
   ]
  },
  {
   "cell_type": "code",
   "execution_count": 11,
   "metadata": {},
   "outputs": [],
   "source": [
    "import pandas as pd\n",
    "from sklearn.preprocessing import OneHotEncoder, LabelEncoder, OrdinalEncoder\n",
    "import warnings\n",
    "warnings.simplefilter('ignore')\n",
    "\n",
    "df = pd.DataFrame({\n",
    "    'Gender' : ['Male','Female']\n",
    "})"
   ]
  },
  {
   "cell_type": "code",
   "execution_count": 12,
   "metadata": {},
   "outputs": [
    {
     "data": {
      "text/html": [
       "<div>\n",
       "<style scoped>\n",
       "    .dataframe tbody tr th:only-of-type {\n",
       "        vertical-align: middle;\n",
       "    }\n",
       "\n",
       "    .dataframe tbody tr th {\n",
       "        vertical-align: top;\n",
       "    }\n",
       "\n",
       "    .dataframe thead th {\n",
       "        text-align: right;\n",
       "    }\n",
       "</style>\n",
       "<table border=\"1\" class=\"dataframe\">\n",
       "  <thead>\n",
       "    <tr style=\"text-align: right;\">\n",
       "      <th></th>\n",
       "      <th>Gender</th>\n",
       "    </tr>\n",
       "  </thead>\n",
       "  <tbody>\n",
       "    <tr>\n",
       "      <th>0</th>\n",
       "      <td>Male</td>\n",
       "    </tr>\n",
       "    <tr>\n",
       "      <th>1</th>\n",
       "      <td>Female</td>\n",
       "    </tr>\n",
       "  </tbody>\n",
       "</table>\n",
       "</div>"
      ],
      "text/plain": [
       "   Gender\n",
       "0    Male\n",
       "1  Female"
      ]
     },
     "execution_count": 12,
     "metadata": {},
     "output_type": "execute_result"
    }
   ],
   "source": [
    "df"
   ]
  },
  {
   "cell_type": "code",
   "execution_count": 16,
   "metadata": {},
   "outputs": [
    {
     "data": {
      "text/html": [
       "<div>\n",
       "<style scoped>\n",
       "    .dataframe tbody tr th:only-of-type {\n",
       "        vertical-align: middle;\n",
       "    }\n",
       "\n",
       "    .dataframe tbody tr th {\n",
       "        vertical-align: top;\n",
       "    }\n",
       "\n",
       "    .dataframe thead th {\n",
       "        text-align: right;\n",
       "    }\n",
       "</style>\n",
       "<table border=\"1\" class=\"dataframe\">\n",
       "  <thead>\n",
       "    <tr style=\"text-align: right;\">\n",
       "      <th></th>\n",
       "      <th>Gender_Male</th>\n",
       "      <th>Gender_Female</th>\n",
       "    </tr>\n",
       "  </thead>\n",
       "  <tbody>\n",
       "    <tr>\n",
       "      <th>0</th>\n",
       "      <td>0.0</td>\n",
       "      <td>1.0</td>\n",
       "    </tr>\n",
       "    <tr>\n",
       "      <th>1</th>\n",
       "      <td>1.0</td>\n",
       "      <td>0.0</td>\n",
       "    </tr>\n",
       "  </tbody>\n",
       "</table>\n",
       "</div>"
      ],
      "text/plain": [
       "   Gender_Male  Gender_Female\n",
       "0          0.0            1.0\n",
       "1          1.0            0.0"
      ]
     },
     "execution_count": 16,
     "metadata": {},
     "output_type": "execute_result"
    }
   ],
   "source": [
    "one_encoder = OneHotEncoder()\n",
    "encoded = one_encoder.fit_transform(df[['Gender']]).toarray()\n",
    "encoded_df = pd.DataFrame(encoded,columns=['Gender_Male','Gender_Female'])\n",
    "encoded_df"
   ]
  },
  {
   "cell_type": "markdown",
   "metadata": {},
   "source": [
    "**<u>Education</u>**"
   ]
  },
  {
   "cell_type": "code",
   "execution_count": 17,
   "metadata": {},
   "outputs": [],
   "source": [
    "df = pd.DataFrame({\n",
    "    'Education level': ['High school','Bachelor','Master','Phd']\n",
    "})"
   ]
  },
  {
   "cell_type": "code",
   "execution_count": 18,
   "metadata": {},
   "outputs": [
    {
     "data": {
      "text/html": [
       "<div>\n",
       "<style scoped>\n",
       "    .dataframe tbody tr th:only-of-type {\n",
       "        vertical-align: middle;\n",
       "    }\n",
       "\n",
       "    .dataframe tbody tr th {\n",
       "        vertical-align: top;\n",
       "    }\n",
       "\n",
       "    .dataframe thead th {\n",
       "        text-align: right;\n",
       "    }\n",
       "</style>\n",
       "<table border=\"1\" class=\"dataframe\">\n",
       "  <thead>\n",
       "    <tr style=\"text-align: right;\">\n",
       "      <th></th>\n",
       "      <th>Education level</th>\n",
       "    </tr>\n",
       "  </thead>\n",
       "  <tbody>\n",
       "    <tr>\n",
       "      <th>0</th>\n",
       "      <td>High school</td>\n",
       "    </tr>\n",
       "    <tr>\n",
       "      <th>1</th>\n",
       "      <td>Bachelor</td>\n",
       "    </tr>\n",
       "    <tr>\n",
       "      <th>2</th>\n",
       "      <td>Master</td>\n",
       "    </tr>\n",
       "    <tr>\n",
       "      <th>3</th>\n",
       "      <td>Phd</td>\n",
       "    </tr>\n",
       "  </tbody>\n",
       "</table>\n",
       "</div>"
      ],
      "text/plain": [
       "  Education level\n",
       "0     High school\n",
       "1        Bachelor\n",
       "2          Master\n",
       "3             Phd"
      ]
     },
     "execution_count": 18,
     "metadata": {},
     "output_type": "execute_result"
    }
   ],
   "source": [
    "df"
   ]
  },
  {
   "cell_type": "code",
   "execution_count": 20,
   "metadata": {},
   "outputs": [
    {
     "data": {
      "text/html": [
       "<div>\n",
       "<style scoped>\n",
       "    .dataframe tbody tr th:only-of-type {\n",
       "        vertical-align: middle;\n",
       "    }\n",
       "\n",
       "    .dataframe tbody tr th {\n",
       "        vertical-align: top;\n",
       "    }\n",
       "\n",
       "    .dataframe thead th {\n",
       "        text-align: right;\n",
       "    }\n",
       "</style>\n",
       "<table border=\"1\" class=\"dataframe\">\n",
       "  <thead>\n",
       "    <tr style=\"text-align: right;\">\n",
       "      <th></th>\n",
       "      <th>Education level</th>\n",
       "    </tr>\n",
       "  </thead>\n",
       "  <tbody>\n",
       "    <tr>\n",
       "      <th>0</th>\n",
       "      <td>0.0</td>\n",
       "    </tr>\n",
       "    <tr>\n",
       "      <th>1</th>\n",
       "      <td>1.0</td>\n",
       "    </tr>\n",
       "    <tr>\n",
       "      <th>2</th>\n",
       "      <td>2.0</td>\n",
       "    </tr>\n",
       "    <tr>\n",
       "      <th>3</th>\n",
       "      <td>3.0</td>\n",
       "    </tr>\n",
       "  </tbody>\n",
       "</table>\n",
       "</div>"
      ],
      "text/plain": [
       "   Education level\n",
       "0              0.0\n",
       "1              1.0\n",
       "2              2.0\n",
       "3              3.0"
      ]
     },
     "execution_count": 20,
     "metadata": {},
     "output_type": "execute_result"
    }
   ],
   "source": [
    "ord_encoder = OrdinalEncoder(categories=[['High school','Bachelor','Master','Phd']])\n",
    "encoded = ord_encoder.fit_transform(df[['Education level']])\n",
    "encoded= pd.DataFrame(encoded,columns=['Education level'])\n",
    "encoded"
   ]
  },
  {
   "cell_type": "markdown",
   "metadata": {},
   "source": [
    "**<u>Employment status</u>**"
   ]
  },
  {
   "cell_type": "code",
   "execution_count": 21,
   "metadata": {},
   "outputs": [],
   "source": [
    "df = pd.DataFrame({\n",
    "    'Employment status' : ['part time','full time']\n",
    "})"
   ]
  },
  {
   "cell_type": "code",
   "execution_count": 22,
   "metadata": {},
   "outputs": [
    {
     "data": {
      "text/html": [
       "<div>\n",
       "<style scoped>\n",
       "    .dataframe tbody tr th:only-of-type {\n",
       "        vertical-align: middle;\n",
       "    }\n",
       "\n",
       "    .dataframe tbody tr th {\n",
       "        vertical-align: top;\n",
       "    }\n",
       "\n",
       "    .dataframe thead th {\n",
       "        text-align: right;\n",
       "    }\n",
       "</style>\n",
       "<table border=\"1\" class=\"dataframe\">\n",
       "  <thead>\n",
       "    <tr style=\"text-align: right;\">\n",
       "      <th></th>\n",
       "      <th>Employment status</th>\n",
       "    </tr>\n",
       "  </thead>\n",
       "  <tbody>\n",
       "    <tr>\n",
       "      <th>0</th>\n",
       "      <td>part time</td>\n",
       "    </tr>\n",
       "    <tr>\n",
       "      <th>1</th>\n",
       "      <td>full time</td>\n",
       "    </tr>\n",
       "  </tbody>\n",
       "</table>\n",
       "</div>"
      ],
      "text/plain": [
       "  Employment status\n",
       "0         part time\n",
       "1         full time"
      ]
     },
     "execution_count": 22,
     "metadata": {},
     "output_type": "execute_result"
    }
   ],
   "source": [
    "df"
   ]
  },
  {
   "cell_type": "code",
   "execution_count": 23,
   "metadata": {},
   "outputs": [
    {
     "data": {
      "text/html": [
       "<div>\n",
       "<style scoped>\n",
       "    .dataframe tbody tr th:only-of-type {\n",
       "        vertical-align: middle;\n",
       "    }\n",
       "\n",
       "    .dataframe tbody tr th {\n",
       "        vertical-align: top;\n",
       "    }\n",
       "\n",
       "    .dataframe thead th {\n",
       "        text-align: right;\n",
       "    }\n",
       "</style>\n",
       "<table border=\"1\" class=\"dataframe\">\n",
       "  <thead>\n",
       "    <tr style=\"text-align: right;\">\n",
       "      <th></th>\n",
       "      <th>Employment status_full time</th>\n",
       "      <th>Employment status_part time</th>\n",
       "    </tr>\n",
       "  </thead>\n",
       "  <tbody>\n",
       "    <tr>\n",
       "      <th>0</th>\n",
       "      <td>0.0</td>\n",
       "      <td>1.0</td>\n",
       "    </tr>\n",
       "    <tr>\n",
       "      <th>1</th>\n",
       "      <td>1.0</td>\n",
       "      <td>0.0</td>\n",
       "    </tr>\n",
       "  </tbody>\n",
       "</table>\n",
       "</div>"
      ],
      "text/plain": [
       "   Employment status_full time  Employment status_part time\n",
       "0                          0.0                          1.0\n",
       "1                          1.0                          0.0"
      ]
     },
     "execution_count": 23,
     "metadata": {},
     "output_type": "execute_result"
    }
   ],
   "source": [
    "one_encoder = OneHotEncoder()\n",
    "encoded = one_encoder.fit_transform(df[['Employment status']]).toarray()\n",
    "encoded_df = pd.DataFrame(encoded,columns= ['Employment status_full time','Employment status_part time'])\n",
    "encoded_df"
   ]
  },
  {
   "cell_type": "markdown",
   "metadata": {},
   "source": [
    "**Q7. You are analyzing a dataset with two continuous variables, \"Temperature\" and \"Humidity\", and two categorical variables, \"Weather Condition\" (Sunny/Cloudy/Rainy) and \"Wind Direction\" (North/South/ East/West). Calculate the covariance between each pair of variables and interpret the results.**\n",
    "\n",
    "**Ans:**"
   ]
  },
  {
   "cell_type": "code",
   "execution_count": 24,
   "metadata": {},
   "outputs": [
    {
     "name": "stdout",
     "output_type": "stream",
     "text": [
      "             Temperature  Humidity\n",
      "Temperature          4.3     -10.8\n",
      "Humidity           -10.8      31.3\n"
     ]
    }
   ],
   "source": [
    "import pandas as pd\n",
    "\n",
    "data = {'Temperature': [25, 23, 27, 22, 26],\n",
    "        'Humidity': [50, 55, 45, 60, 52],\n",
    "        'Weather Condition': ['Sunny', 'Cloudy', 'Rainy', 'Sunny', 'Cloudy'],\n",
    "        'Wind Direction': ['North', 'South', 'East', 'West', 'North']}\n",
    "\n",
    "df = pd.DataFrame(data)\n",
    "\n",
    "covariance_matrix = df.cov()\n",
    "\n",
    "print(covariance_matrix)"
   ]
  },
  {
   "cell_type": "markdown",
   "metadata": {},
   "source": [
    "The covariance matrix shows the covariance between each pair of continuous variables, \"Temperature\" and \"Humidity\". The diagonal elements represent the variance of each variable, and the off-diagonal elements represent the covariance between the two variables. The covariance between \"Temperature\" and \"Humidity\" is -6.5, which indicates that there is a negative linear relationship between the two variables. In other words, as the temperature increases, the humidity decreases, and vice versa. The covariance between \"Temperature\" and itself (i.e., the variance of \"Temperature\") is 3.5, indicating that the temperature values vary from the mean. Similarly, the covariance between \"Humidity\" and itself (i.e., the variance of \"Humidity\") is 17.3, indicating that the humidity values vary from the mean.\n",
    "\n",
    "However, the covariance does not give us information on the strength of the relationship between variables, as it is influenced by the units of measurement. Therefore, we may use correlation coefficients, which standardize the covariance between variables."
   ]
  },
  {
   "cell_type": "code",
   "execution_count": null,
   "metadata": {},
   "outputs": [],
   "source": []
  }
 ],
 "metadata": {
  "kernelspec": {
   "display_name": "Python 3",
   "language": "python",
   "name": "python3"
  },
  "language_info": {
   "codemirror_mode": {
    "name": "ipython",
    "version": 3
   },
   "file_extension": ".py",
   "mimetype": "text/x-python",
   "name": "python",
   "nbconvert_exporter": "python",
   "pygments_lexer": "ipython3",
   "version": "3.8.5"
  }
 },
 "nbformat": 4,
 "nbformat_minor": 4
}
