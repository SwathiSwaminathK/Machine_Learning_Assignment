{
 "cells": [
  {
   "cell_type": "markdown",
   "metadata": {},
   "source": [
    "**Q1. Pearson correlation coefficient is a measure of the linear relationship between two variables. Suppose you have collected data on the amount of time students spend studying for an exam and their final exam scores. Calculate the Pearson correlation coefficient between these two variables and interpret the result.**\n",
    "\n",
    "**Ans:**\n",
    "\n",
    "To calculate the Pearson correlation coefficient between two variables, we need to first calculate the covariance between the two variables and their respective standard deviations. Let X be the amount of time students spend studying for an exam and Y be their final exam scores. We can calculate the Pearson correlation coefficient between X and Y as follows:\n",
    "\n",
    "\n",
    "1. Calculate the mean of X and Y:\n",
    "\n",
    "        Mean(X) = (Sum of all values in X) / (Number of values in X)\n",
    "\n",
    "        Mean(Y) = (Sum of all values in Y) / (Number of values in Y)\n",
    "    \n",
    "\n",
    "2. Calculate the deviations of each X and Y value from their respective means:\n",
    "\n",
    "        Deviation from mean of X (Xi) = Xi - Mean(X)\n",
    "\n",
    "        Deviation from mean of Y (Yi) = Yi - Mean(Y)\n",
    "    \n",
    "\n",
    "3. Calculate the covariance between X and Y:\n",
    "\n",
    "        Covariance(X,Y) = (Sum of (Xi * Yi)) / (Number of values in X)\n",
    "    \n",
    "\n",
    "4. Calculate the standard deviation of X and Y:\n",
    "\n",
    "        Standard deviation of X = sqrt((Sum of (Xi - Mean(X))^2) / (Number of values in X))\n",
    "\n",
    "        Standard deviation of Y = sqrt((Sum of (Yi - Mean(Y))^2) / (Number of values in Y))\n",
    "    \n",
    "\n",
    "5. Calculate the Pearson correlation coefficient:\n",
    "\n",
    "        Pearson correlation coefficient (r) = Covariance(X,Y) / (Standard deviation of X * Standard deviation of Y)\n",
    "        \n",
    "\n",
    "Interpretation of Pearson correlation coefficient:\n",
    "\n",
    "The Pearson correlation coefficient is a value between -1 and +1. A value of +1 indicates a perfect positive linear relationship between the two variables, while a value of -1 indicates a perfect negative linear relationship. A value of 0 indicates no linear relationship between the two variables.\n",
    "\n",
    "\n",
    "If we obtain a Pearson correlation coefficient of, say, 0.7, this indicates a strong positive linear relationship between the amount of time students spend studying for an exam and their final exam scores. In other words, as the amount of time spent studying increases, so do the final exam scores. On the other hand, if we obtain a Pearson correlation coefficient of -0.3, this indicates a weak negative linear relationship between the two variables. In this case, as the amount of time spent studying increases, the final exam scores decrease, but the relationship is not very strong."
   ]
  },
  {
   "cell_type": "markdown",
   "metadata": {},
   "source": [
    "**Q2. Spearman's rank correlation is a measure of the monotonic relationship between two variables. Suppose you have collected data on the amount of sleep individuals get each night and their overall job satisfaction level on a scale of 1 to 10. Calculate the Spearman's rank correlation between these two variables and interpret the result.**\n",
    "\n",
    "**Ans:**\n",
    "\n",
    "To calculate Spearman's rank correlation coefficient between two variables, we need to rank each variable separately and then calculate the difference between the ranks for each pair of observations. Let X be the amount of sleep individuals get each night and Y be their overall job satisfaction level on a scale of 1 to 10. We can calculate the Spearman's rank correlation coefficient between X and Y as follows:\n",
    "\n",
    "\n",
    "1. Rank each variable separately:\n",
    "\n",
    "        Rank the sleep variable (X) from lowest to highest value, assigning ranks 1 to n to the n observations.\n",
    "\n",
    "        Rank the job satisfaction variable (Y) from lowest to highest value, assigning ranks 1 to n to the n observations.\n",
    "        \n",
    "\n",
    "2. Calculate the difference between the ranks for each pair of observations:\n",
    "\n",
    "        Calculate the difference between the ranks for each pair of observations (d) as follows: d = rank(X) - rank(Y)\n",
    "        \n",
    "\n",
    "3. Calculate the Spearman's rank correlation coefficient:\n",
    "\n",
    "        Spearman's rank correlation coefficient (rs) = 1 - (6 * sum of (d^2)) / (n * (n^2 - 1))\n",
    "        \n",
    "\n",
    "Interpretation of Spearman's rank correlation coefficient:\n",
    "\n",
    "The Spearman's rank correlation coefficient is also a value between -1 and +1, with a value of +1 indicating a perfect monotonic relationship between the two variables. A value of -1 indicates a perfect monotonic inverse relationship, while a value of 0 indicates no monotonic relationship between the two variables.\n",
    "\n",
    "\n",
    "If we obtain a Spearman's rank correlation coefficient of, say, 0.7, this indicates a strong positive monotonic relationship between the amount of sleep individuals get each night and their overall job satisfaction level. In other words, as the amount of sleep individuals get each night increases, so does their overall job satisfaction level, but the relationship is not necessarily linear. On the other hand, if we obtain a Spearman's rank correlation coefficient of -0.3, this indicates a weak negative monotonic relationship between the two variables. In this case, as the amount of sleep individuals get each night increases, their overall job satisfaction level decreases, but again, the relationship is not necessarily linear."
   ]
  },
  {
   "cell_type": "markdown",
   "metadata": {},
   "source": [
    "**Q3. Suppose you are conducting a study to examine the relationship between the number of hours of exercise per week and body mass index (BMI) in a sample of adults. You collected data on both variables for 50 participants. Calculate the Pearson correlation coefficient and the Spearman's rank correlation between these two variables and compare the results.**\n",
    "\n",
    "**Ans:**\n",
    "\n",
    "To calculate the Pearson correlation coefficient and the Spearman's rank correlation coefficient between the number of hours of exercise per week and BMI, we can follow the steps below:\n",
    "\n",
    "\n",
    "1. Calculate the mean of the number of hours of exercise per week and BMI:\n",
    "\n",
    "        Mean(hours) = (Sum of all values in hours) / (Number of values in hours)\n",
    "\n",
    "        Mean(BMI) = (Sum of all values in BMI) / (Number of values in BMI)\n",
    "\n",
    "\n",
    "2. Calculate the deviations of each hours and BMI value from their respective means:\n",
    "\n",
    "        Deviation from mean of hours (Xi) = Xi - Mean(hours)\n",
    "\n",
    "        Deviation from mean of BMI (Yi) = Yi - Mean(BMI)\n",
    "\n",
    "\n",
    "3. Calculate the covariance between hours and BMI:\n",
    "\n",
    "        Covariance(hours,BMI) = (Sum of (Xi * Yi)) / (Number of values)\n",
    "\n",
    "\n",
    "4. Calculate the standard deviation of hours and BMI:\n",
    "\n",
    "        Standard deviation of hours = sqrt((Sum of (Xi - Mean(hours))^2) / (Number of values))\n",
    "\n",
    "        Standard deviation of BMI = sqrt((Sum of (Yi - Mean(BMI))^2) / (Number of values))\n",
    "\n",
    "\n",
    "5. Calculate the Pearson correlation coefficient:\n",
    "\n",
    "        Pearson correlation coefficient (r) = Covariance(hours,BMI) / (Standard deviation of hours * Standard deviation of BMI)\n",
    "\n",
    "\n",
    "6. Calculate the Spearman's rank correlation coefficient:\n",
    "\n",
    "    Rank the values of hours and BMI from lowest to highest, assigning ranks 1 to 50 to the 50 observations for each variable.\n",
    "\n",
    "    Calculate the difference between the ranks for each pair of observations (d) as follows: \n",
    "\n",
    "        d = rank(hours) - rank(BMI)\n",
    "\n",
    "    Then, calculate the Spearman's rank correlation coefficient (rs) using the formula: \n",
    "\n",
    "        rs = 1 - (6 * sum of (d^2)) / (n * (n^2 - 1))\n",
    "\n",
    "\n",
    "After calculating both the Pearson correlation coefficient and the Spearman's rank correlation coefficient, we can compare the results. If the relationship between hours and BMI is approximately linear, we would expect the Pearson correlation coefficient to be higher than the Spearman's rank correlation coefficient. If the relationship is not linear, the Spearman's rank correlation coefficient may be higher.\n",
    "\n",
    "\n",
    "If the Pearson correlation coefficient is 0.8, for example, we would conclude that there is a strong positive linear relationship between the number of hours of exercise per week and BMI in the sample of adults. On the other hand, if the Spearman's rank correlation coefficient is 0.6, this would suggest that there is a strong monotonic relationship between the two variables, but the relationship may not necessarily be linear. The comparison of the two coefficients would allow us to gain insight into the nature of the relationship between hours of exercise and BMI in the sample."
   ]
  },
  {
   "cell_type": "markdown",
   "metadata": {},
   "source": [
    "**Q4. A researcher is interested in examining the relationship between the number of hours individuals spend watching television per day and their level of physical activity. The researcher collected data on both variables from a sample of 50 participants. Calculate the Pearson correlation coefficient between these two variables.**\n",
    "\n",
    "**Ans:**\n",
    "\n",
    "To calculate the Pearson correlation coefficient between the number of hours individuals spend watching television per day and their level of physical activity, we can follow the steps below:\n",
    "\n",
    "\n",
    "Collect data on both variables from a sample of 50 participants.\n",
    "\n",
    "\n",
    "1. Calculate the mean of the number of hours individuals spend watching television per day and their level of physical activity:\n",
    "\n",
    "        Mean(hours) = (Sum of all values in hours) / (Number of values in hours)\n",
    "\n",
    "        Mean(activity) = (Sum of all values in activity) / (Number of values in activity)\n",
    "\n",
    "\n",
    "2. Calculate the deviations of each hours and activity value from their respective means:\n",
    "\n",
    "        Deviation from mean of hours (Xi) = Xi - Mean(hours)\n",
    "\n",
    "        Deviation from mean of activity (Yi) = Yi - Mean(activity)\n",
    "\n",
    "\n",
    "3. Calculate the covariance between hours and activity:\n",
    "\n",
    "        Covariance(hours,activity) = (Sum of (Xi * Yi)) / (Number of values)\n",
    "\n",
    "\n",
    "4. Calculate the standard deviation of hours and activity:\n",
    "\n",
    "        Standard deviation of hours = sqrt((Sum of (Xi - Mean(hours))^2) / (Number of values))\n",
    "\n",
    "        Standard deviation of activity = sqrt((Sum of (Yi - Mean(activity))^2) / (Number of values))\n",
    "\n",
    "\n",
    "5. Calculate the Pearson correlation coefficient:\n",
    "\n",
    "       Pearson correlation coefficient (r) = Covariance(hours,activity) / (Standard deviation of hours * Standard deviation of activity)\n",
    "\n",
    "\n",
    "After calculating the Pearson correlation coefficient, we can interpret the result. If the Pearson correlation coefficient is positive and close to 1, this would suggest a strong positive linear relationship between the number of hours individuals spend watching television per day and their level of physical activity. If the Pearson correlation coefficient is negative and close to -1, this would suggest a strong negative linear relationship between the two variables, meaning that as the number of hours individuals spend watching television per day increases, their level of physical activity decreases. If the Pearson correlation coefficient is close to 0, this would suggest that there is no linear relationship between the two variables."
   ]
  },
  {
   "attachments": {
    "Survey.jpg": {
     "image/jpeg": "[encoded data removed]"
    }
   },
   "cell_type": "markdown",
   "metadata": {},
   "source": [
    "**Q5. A survey was conducted to examine the relationship between age and preference for a particular brand of soft drink. The survey results are shown below:**\n",
    "\n",
    "![Survey.jpg](attachment:Survey.jpg)\n",
    "\n",
    "**Ans:**\n",
    "\n",
    "H0: There is no relationship between age and preference for a particular brand of soft drink.\n",
    "\n",
    "H1: There is a relationship between age and preference for a particular brand of soft drink."
   ]
  },
  {
   "cell_type": "code",
   "execution_count": 2,
   "metadata": {},
   "outputs": [],
   "source": [
    "import pandas as pd\n",
    "from scipy.stats import chi2_contingency\n",
    "df = pd.DataFrame({\n",
    "    'age' : [25,42,37,19,31,28],\n",
    "    'soft_drink' : ['coke','pepsi','mountain dew','coke','pepsi','coke']\n",
    "})\n",
    "\n",
    "# Create contigency table\n",
    "con_table = pd.crosstab(df['age']>=30,df['soft_drink'])"
   ]
  },
  {
   "cell_type": "code",
   "execution_count": 3,
   "metadata": {},
   "outputs": [
    {
     "data": {
      "text/html": [
       "<div>\n",
       "<style scoped>\n",
       "    .dataframe tbody tr th:only-of-type {\n",
       "        vertical-align: middle;\n",
       "    }\n",
       "\n",
       "    .dataframe tbody tr th {\n",
       "        vertical-align: top;\n",
       "    }\n",
       "\n",
       "    .dataframe thead th {\n",
       "        text-align: right;\n",
       "    }\n",
       "</style>\n",
       "<table border=\"1\" class=\"dataframe\">\n",
       "  <thead>\n",
       "    <tr style=\"text-align: right;\">\n",
       "      <th>soft_drink</th>\n",
       "      <th>coke</th>\n",
       "      <th>mountain dew</th>\n",
       "      <th>pepsi</th>\n",
       "    </tr>\n",
       "    <tr>\n",
       "      <th>age</th>\n",
       "      <th></th>\n",
       "      <th></th>\n",
       "      <th></th>\n",
       "    </tr>\n",
       "  </thead>\n",
       "  <tbody>\n",
       "    <tr>\n",
       "      <th>False</th>\n",
       "      <td>3</td>\n",
       "      <td>0</td>\n",
       "      <td>0</td>\n",
       "    </tr>\n",
       "    <tr>\n",
       "      <th>True</th>\n",
       "      <td>0</td>\n",
       "      <td>1</td>\n",
       "      <td>2</td>\n",
       "    </tr>\n",
       "  </tbody>\n",
       "</table>\n",
       "</div>"
      ],
      "text/plain": [
       "soft_drink  coke  mountain dew  pepsi\n",
       "age                                  \n",
       "False          3             0      0\n",
       "True           0             1      2"
      ]
     },
     "execution_count": 3,
     "metadata": {},
     "output_type": "execute_result"
    }
   ],
   "source": [
    "con_table"
   ]
  },
  {
   "cell_type": "code",
   "execution_count": 4,
   "metadata": {},
   "outputs": [
    {
     "name": "stdout",
     "output_type": "stream",
     "text": [
      "We reject null hypothesis.\n"
     ]
    }
   ],
   "source": [
    "chi2, p_val, dof, excepted = chi2_contingency(con_table)\n",
    "\n",
    "if chi2 > p_val:\n",
    "    \n",
    "    print('We reject null hypothesis.')\n",
    "    \n",
    "else:\n",
    "    \n",
    "    print('We failed to reject the null hypothesis.')"
   ]
  },
  {
   "cell_type": "code",
   "execution_count": 7,
   "metadata": {},
   "outputs": [
    {
     "name": "stdout",
     "output_type": "stream",
     "text": [
      "Chi_val:  6.0 \n",
      "P_val:  0.04978706836786395\n"
     ]
    }
   ],
   "source": [
    "print('Chi_val: ', chi2, '\\nP_val: ', p_val)"
   ]
  },
  {
   "cell_type": "markdown",
   "metadata": {},
   "source": [
    "**Q6. A company is interested in examining the relationship between the number of sales calls made per day and the number of sales made per week. The company collected data on both variables from a sample of 30 sales representatives. Calculate the Pearson correlation coefficient between these two variables.**\n",
    "\n",
    "**Ans:**"
   ]
  },
  {
   "cell_type": "code",
   "execution_count": 8,
   "metadata": {},
   "outputs": [
    {
     "data": {
      "text/plain": [
       "0.9404195206802066"
      ]
     },
     "execution_count": 8,
     "metadata": {},
     "output_type": "execute_result"
    }
   ],
   "source": [
    "import numpy as np\n",
    "\n",
    "sales_calls = [20, 24, 16, 22, 18, 25, 21, 19, 17, 23,\n",
    "               20, 24, 16, 22, 18, 25, 21, 19, 17, 23,\n",
    "               20, 24, 16, 22, 18, 25, 21, 19, 17, 23]\n",
    "\n",
    "sales_made = [3, 4, 2, 3, 3, 5, 4, 3, 2, 4,\n",
    "              3, 4, 2, 3, 3, 5, 4, 3, 2, 4,\n",
    "              3, 4, 2, 3, 3, 5, 4, 3, 2, 4]\n",
    "\n",
    "mean_calls = np.mean(sales_calls)\n",
    "std_calls = np.std(sales_calls)\n",
    "mean_sales = np.mean(sales_made)\n",
    "std_sales = np.std(sales_made)\n",
    "covariance = np.cov(sales_calls, sales_made)[0, 1]\n",
    "\n",
    "# Calculate the Pearson correlation coefficient\n",
    "r = covariance / (std_calls * std_sales)\n",
    "\n",
    "r"
   ]
  },
  {
   "cell_type": "markdown",
   "metadata": {},
   "source": [
    "Here r is positive, which represents the strong pearson correlation between two variable."
   ]
  },
  {
   "cell_type": "code",
   "execution_count": null,
   "metadata": {},
   "outputs": [],
   "source": []
  }
 ],
 "metadata": {
  "kernelspec": {
   "display_name": "Python 3",
   "language": "python",
   "name": "python3"
  },
  "language_info": {
   "codemirror_mode": {
    "name": "ipython",
    "version": 3
   },
   "file_extension": ".py",
   "mimetype": "text/x-python",
   "name": "python",
   "nbconvert_exporter": "python",
   "pygments_lexer": "ipython3",
   "version": "3.8.5"
  }
 },
 "nbformat": 4,
 "nbformat_minor": 4
}
